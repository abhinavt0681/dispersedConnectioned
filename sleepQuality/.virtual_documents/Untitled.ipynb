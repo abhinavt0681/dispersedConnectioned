import pandas as pd

df = pd.read_csv('Sleep_health_and_lifestyle_dataset.csv')
df.head(10)


#Missing data
print(df.isnull().sum())


categorical_columns = df.select_dtypes(include=['object']).columns
print(categorical_columns)


#One-hot encoding
df_encoded = pd.get_dummies(df, columns=['Gender','Occupation','BMI Category','Sleep Disorder'])


df_encoded[['Systolic_BP', 'Diastolic_BP']] = df['Blood Pressure'].str.split('/', expand=True).astype(float)

# Drop the original 'Blood Pressure' column
df_encoded = df_encoded.drop(columns=['Blood Pressure'])

# Display the first few rows of the processed dataset
print("\nFirst few rows of the processed dataset:")
print(df_encoded.head())


from sklearn.model_selection import train_test_split
from sklearn.ensemble import RandomForestRegressor
from sklearn.metrics import mean_squared_error, r2_score

# Define the target variable (Quality of Sleep) and the feature set
X = df_encoded.drop(columns=['Quality of Sleep'])
y = df_encoded['Quality of Sleep']

# Split the data into training (80%) and testing (20%) sets
X_train, X_test, y_train, y_test = train_test_split(X, y, test_size=0.2, random_state=42)

# Initialize the model (Random Forest in this case)
model = RandomForestRegressor(n_estimators=100, random_state=42)

# Train the model on the training set
model.fit(X_train, y_train)

# Make predictions on the testing set
y_pred = model.predict(X_test)

# Evaluate the model's performance
mse = mean_squared_error(y_test, y_pred)
r2 = r2_score(y_test, y_pred)

print(f"Mean Squared Error: {mse}")
print(f"R-squared: {r2}")



import joblib
joblib.dump(model, 'sleep_cycle_model.pkl')



